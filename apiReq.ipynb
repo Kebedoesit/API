{
 "cells": [
  {
   "cell_type": "markdown",
   "id": "58b08f3b",
   "metadata": {},
   "source": [
    "In order to acquire this particular Crunchbase database, I had to locate their documentation, which contained all of the information required to perform an API request. An API is another type of user interface. The key difference is that instead of the user being a human-"
   ]
  },
  {
   "cell_type": "code",
   "execution_count": 2,
   "id": "ceef4fa4-4349-40d0-ab3c-d92229e8d166",
   "metadata": {
    "tags": []
   },
   "outputs": [],
   "source": [
    "import pandas as pd\n",
    "import json "
   ]
  },
  {
   "cell_type": "markdown",
   "id": "9b02c90a-57ce-4ae9-941b-81e699b7d528",
   "metadata": {},
   "source": [
    "![requ](api0.png)"
   ]
  },
  {
   "cell_type": "markdown",
   "id": "785bd790",
   "metadata": {},
   "source": [
    "\n",
    "![api](api1.png)"
   ]
  },
  {
   "cell_type": "markdown",
   "id": "a1d01b00",
   "metadata": {},
   "source": [
    "\n",
    "![api](api2.png)"
   ]
  },
  {
   "cell_type": "code",
   "execution_count": 4,
   "id": "c8e36b9b-8814-4b71-a645-755c681fdf32",
   "metadata": {
    "scrolled": true
   },
   "outputs": [
    {
     "data": {
      "text/html": [
       "<div>\n",
       "<style scoped>\n",
       "    .dataframe tbody tr th:only-of-type {\n",
       "        vertical-align: middle;\n",
       "    }\n",
       "\n",
       "    .dataframe tbody tr th {\n",
       "        vertical-align: top;\n",
       "    }\n",
       "\n",
       "    .dataframe thead th {\n",
       "        text-align: right;\n",
       "    }\n",
       "</style>\n",
       "<table border=\"1\" class=\"dataframe\">\n",
       "  <thead>\n",
       "    <tr style=\"text-align: right;\">\n",
       "      <th></th>\n",
       "      <th>uuid</th>\n",
       "      <th>entity_def_id</th>\n",
       "      <th>deleted_at</th>\n",
       "    </tr>\n",
       "  </thead>\n",
       "  <tbody>\n",
       "    <tr>\n",
       "      <th>0</th>\n",
       "      <td>66f483b2-f3e8-4c7d-94d8-34dbf63f93f9</td>\n",
       "      <td>organization</td>\n",
       "      <td>2017-12-22 01:01:38+00:00</td>\n",
       "    </tr>\n",
       "    <tr>\n",
       "      <th>1</th>\n",
       "      <td>bc3b48c3-9299-4635-a690-9e9bf9d8451b</td>\n",
       "      <td>job</td>\n",
       "      <td>2017-12-22 02:01:50+00:00</td>\n",
       "    </tr>\n",
       "    <tr>\n",
       "      <th>2</th>\n",
       "      <td>52f8d052-c304-7b42-ce9d-8888ae831019</td>\n",
       "      <td>job</td>\n",
       "      <td>2017-12-22 02:40:18+00:00</td>\n",
       "    </tr>\n",
       "    <tr>\n",
       "      <th>3</th>\n",
       "      <td>638dbfaf-a834-c9e5-314d-3e0e5298b29a</td>\n",
       "      <td>job</td>\n",
       "      <td>2017-12-22 03:22:49+00:00</td>\n",
       "    </tr>\n",
       "    <tr>\n",
       "      <th>4</th>\n",
       "      <td>7601843e-6b25-e858-ba0b-3449a5e969a8</td>\n",
       "      <td>job</td>\n",
       "      <td>2017-12-22 03:26:07+00:00</td>\n",
       "    </tr>\n",
       "    <tr>\n",
       "      <th>...</th>\n",
       "      <td>...</td>\n",
       "      <td>...</td>\n",
       "      <td>...</td>\n",
       "    </tr>\n",
       "    <tr>\n",
       "      <th>995</th>\n",
       "      <td>27d8134f-4ee3-b3ad-ee3b-f485a79bf6fd</td>\n",
       "      <td>person</td>\n",
       "      <td>2018-01-01 10:44:34+00:00</td>\n",
       "    </tr>\n",
       "    <tr>\n",
       "      <th>996</th>\n",
       "      <td>5e1aaaa1-dc01-7115-2941-26f5acba9e83</td>\n",
       "      <td>job</td>\n",
       "      <td>2018-01-01 10:44:34+00:00</td>\n",
       "    </tr>\n",
       "    <tr>\n",
       "      <th>997</th>\n",
       "      <td>18c966ca-9084-9a39-dacd-1970d20bc4f7</td>\n",
       "      <td>job</td>\n",
       "      <td>2018-01-01 10:46:32+00:00</td>\n",
       "    </tr>\n",
       "    <tr>\n",
       "      <th>998</th>\n",
       "      <td>dbe567ff-ac64-de32-0997-141445283873</td>\n",
       "      <td>job</td>\n",
       "      <td>2018-01-01 10:52:25+00:00</td>\n",
       "    </tr>\n",
       "    <tr>\n",
       "      <th>999</th>\n",
       "      <td>ff074376-6c7e-6890-69fa-44e96525a7a7</td>\n",
       "      <td>job</td>\n",
       "      <td>2018-01-01 10:54:54+00:00</td>\n",
       "    </tr>\n",
       "  </tbody>\n",
       "</table>\n",
       "<p>1000 rows × 3 columns</p>\n",
       "</div>"
      ],
      "text/plain": [
       "                                     uuid entity_def_id  \\\n",
       "0    66f483b2-f3e8-4c7d-94d8-34dbf63f93f9  organization   \n",
       "1    bc3b48c3-9299-4635-a690-9e9bf9d8451b           job   \n",
       "2    52f8d052-c304-7b42-ce9d-8888ae831019           job   \n",
       "3    638dbfaf-a834-c9e5-314d-3e0e5298b29a           job   \n",
       "4    7601843e-6b25-e858-ba0b-3449a5e969a8           job   \n",
       "..                                    ...           ...   \n",
       "995  27d8134f-4ee3-b3ad-ee3b-f485a79bf6fd        person   \n",
       "996  5e1aaaa1-dc01-7115-2941-26f5acba9e83           job   \n",
       "997  18c966ca-9084-9a39-dacd-1970d20bc4f7           job   \n",
       "998  dbe567ff-ac64-de32-0997-141445283873           job   \n",
       "999  ff074376-6c7e-6890-69fa-44e96525a7a7           job   \n",
       "\n",
       "                   deleted_at  \n",
       "0   2017-12-22 01:01:38+00:00  \n",
       "1   2017-12-22 02:01:50+00:00  \n",
       "2   2017-12-22 02:40:18+00:00  \n",
       "3   2017-12-22 03:22:49+00:00  \n",
       "4   2017-12-22 03:26:07+00:00  \n",
       "..                        ...  \n",
       "995 2018-01-01 10:44:34+00:00  \n",
       "996 2018-01-01 10:44:34+00:00  \n",
       "997 2018-01-01 10:46:32+00:00  \n",
       "998 2018-01-01 10:52:25+00:00  \n",
       "999 2018-01-01 10:54:54+00:00  \n",
       "\n",
       "[1000 rows x 3 columns]"
      ]
     },
     "execution_count": 4,
     "metadata": {},
     "output_type": "execute_result"
    }
   ],
   "source": [
    "#Read our JSON file as an easier to digest pandas dataframe\n",
    "data = pd.read_json('response_1679131169502.json')\n",
    "data"
   ]
  },
  {
   "cell_type": "code",
   "execution_count": 5,
   "id": "21d598a8",
   "metadata": {},
   "outputs": [],
   "source": [
    "data.to_csv('response.csv')\n",
    "#code for converting json object into csv file, which is more appropriate for this particular dataset"
   ]
  },
  {
   "cell_type": "code",
   "execution_count": null,
   "id": "945a091d-6a04-4e1b-a91f-6cac133627cc",
   "metadata": {},
   "outputs": [],
   "source": []
  }
 ],
 "metadata": {
  "kernelspec": {
   "display_name": "Python 3 (ipykernel)",
   "language": "python",
   "name": "python3"
  },
  "language_info": {
   "codemirror_mode": {
    "name": "ipython",
    "version": 3
   },
   "file_extension": ".py",
   "mimetype": "text/x-python",
   "name": "python",
   "nbconvert_exporter": "python",
   "pygments_lexer": "ipython3",
   "version": "3.9.13"
  }
 },
 "nbformat": 4,
 "nbformat_minor": 5
}
